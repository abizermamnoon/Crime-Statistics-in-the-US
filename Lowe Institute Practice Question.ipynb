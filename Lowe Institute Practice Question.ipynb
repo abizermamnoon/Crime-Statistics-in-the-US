{
 "cells": [
  {
   "cell_type": "code",
   "execution_count": 4,
   "id": "9ce3cc42",
   "metadata": {},
   "outputs": [
    {
     "ename": "NameError",
     "evalue": "name 'require' is not defined",
     "output_type": "error",
     "traceback": [
      "\u001b[1;31m---------------------------------------------------------------------------\u001b[0m",
      "\u001b[1;31mNameError\u001b[0m                                 Traceback (most recent call last)",
      "\u001b[1;32m<ipython-input-4-8b39fb26a6f0>\u001b[0m in \u001b[0;36m<module>\u001b[1;34m\u001b[0m\n\u001b[1;32m----> 1\u001b[1;33m \u001b[0mrequire\u001b[0m\u001b[1;33m(\u001b[0m\u001b[1;34m'dotenv'\u001b[0m\u001b[1;33m)\u001b[0m\u001b[1;33m.\u001b[0m\u001b[0mconfig\u001b[0m\u001b[1;33m(\u001b[0m\u001b[1;33m)\u001b[0m\u001b[1;33m;\u001b[0m\u001b[1;33m\u001b[0m\u001b[1;33m\u001b[0m\u001b[0m\n\u001b[0m",
      "\u001b[1;31mNameError\u001b[0m: name 'require' is not defined"
     ]
    }
   ],
   "source": [
    "require('dotenv').config();"
   ]
  },
  {
   "cell_type": "code",
   "execution_count": null,
   "id": "e7d13239",
   "metadata": {},
   "outputs": [],
   "source": [
    "import os\n",
    "import requests\n",
    "from dotenv import load_dotenv, find_dotenv\n",
    "\n",
    "def req(value1: str, value2: str):\n",
    "\n",
    "  payload = {'arg1': value1, 'arg2': value2}\n",
    "  \n",
    "  # Load in the environment variables\n",
    "  \n",
    "  path_to_dotenv = find_dotenv() # NOTE: You will likely not need to do this\n",
    "  load_dotenv(path_to_dotenv) # NOTE: This often works without any arguments -- try that first\n",
    "  \n",
    "  apikey = os.environ.get(\"Name_of_api_key_env_variable\", None) # Returns None if there is no variable with that name\n",
    "  \n",
    "  # Can add a try/except here with an assert to check if apikey is not None\n",
    "  \n",
    "  payload[\"key\"] = apikey\n",
    "  \n",
    "  r = requests.get('https://httpbin.org/get', params=payload)\n",
    "  \n",
    "  # This will send a GET request to\n",
    "  # https://httpbin.org/get?arg1=value1&arg2=value2&key=149EXAMPLEKEY1023\n",
    "  \n",
    "  return r.json()"
   ]
  }
 ],
 "metadata": {
  "kernelspec": {
   "display_name": "Python 3",
   "language": "python",
   "name": "python3"
  },
  "language_info": {
   "codemirror_mode": {
    "name": "ipython",
    "version": 3
   },
   "file_extension": ".py",
   "mimetype": "text/x-python",
   "name": "python",
   "nbconvert_exporter": "python",
   "pygments_lexer": "ipython3",
   "version": "3.8.8"
  }
 },
 "nbformat": 4,
 "nbformat_minor": 5
}
