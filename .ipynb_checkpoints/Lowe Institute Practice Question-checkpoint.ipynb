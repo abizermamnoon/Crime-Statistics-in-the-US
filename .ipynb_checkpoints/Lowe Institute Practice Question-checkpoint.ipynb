{
 "cells": [
  {
   "cell_type": "code",
   "execution_count": null,
   "id": "66310d98",
   "metadata": {},
   "outputs": [],
   "source": [
    "import os\n",
    "import requests\n",
    "from dotenv import load_dotenv, find_dotenv\n",
    "\n",
    "def req(value1: str, value2: str):\n",
    "\n",
    "  payload = {'arg1': value1, 'arg2': value2}\n",
    "  \n",
    "  # Load in the environment variables\n",
    "  \n",
    "  path_to_dotenv = find_dotenv() # NOTE: You will likely not need to do this\n",
    "  load_dotenv(path_to_dotenv) # NOTE: This often works without any arguments -- try that first\n",
    "  \n",
    "  apikey = os.environ.get(\"Name_of_api_key_env_variable\", None) # Returns None if there is no variable with that name\n",
    "  \n",
    "  # Can add a try/except here with an assert to check if apikey is not None\n",
    "  \n",
    "  payload[\"key\"] = apikey\n",
    "  \n",
    "  r = requests.get('https://httpbin.org/get', params=payload)\n",
    "  \n",
    "  # This will send a GET request to\n",
    "  # https://httpbin.org/get?arg1=value1&arg2=value2&key=149EXAMPLEKEY1023\n",
    "  \n",
    "  return r.json()"
   ]
  }
 ],
 "metadata": {
  "kernelspec": {
   "display_name": "Python 3",
   "language": "python",
   "name": "python3"
  },
  "language_info": {
   "codemirror_mode": {
    "name": "ipython",
    "version": 3
   },
   "file_extension": ".py",
   "mimetype": "text/x-python",
   "name": "python",
   "nbconvert_exporter": "python",
   "pygments_lexer": "ipython3",
   "version": "3.8.8"
  }
 },
 "nbformat": 4,
 "nbformat_minor": 5
}
